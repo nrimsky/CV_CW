{
 "cells": [
  {
   "cell_type": "code",
   "execution_count": 1,
   "metadata": {},
   "outputs": [],
   "source": [
    "import cv2 as cv\n",
    "import numpy as np\n",
    "import glob\n",
    "import matplotlib.pyplot as plt\n",
    "import matplotlib.image as mpimg\n",
    "import os\n",
    "import pandas as pd\n",
    "from pandasgui import show"
   ]
  },
  {
   "cell_type": "code",
   "execution_count": 21,
   "metadata": {},
   "outputs": [],
   "source": [
    "dims = [5]\n",
    "dimf = [5]\n",
    "\n",
    "# dat = {'Dim1' : [], 'Dim2' : [], 'Count' : [], 'RMS' : [], 'MTX' : [], 'Dist' : []}\n",
    "# db = pd.DataFrame(dat)\n",
    "images = glob.glob('.\\catpics\\*.jpg')\n",
    "\n",
    "for dim1 in dimf:\n",
    "    for dim2 in dims:\n",
    "        # termination criteria\n",
    "        criteria = (cv.TERM_CRITERIA_EPS + cv.TERM_CRITERIA_MAX_ITER, 30, 0.001)\n",
    "        # IMPORTANT grid dims\n",
    "        # dim1 = 4\n",
    "        # dim2 = 5\n",
    "        # prepare object points, like (0,0,0), (1,0,0), (2,0,0) ....,(6,5,0)\n",
    "        objp = np.zeros((dim2*dim1,3), np.float32)\n",
    "        objp[:,:2] = np.mgrid[0:dim1,0:dim2].T.reshape(-1,2)\n",
    "        # Arrays to store object points and image points from all the images.\n",
    "        objpoints = [] # 3d point in real world space\n",
    "        imgpoints = [] # 2d points in image plane.\n",
    "        c = 0\n",
    "\n",
    "        for fname in images:\n",
    "            img = cv.imread(fname)\n",
    "            gray = cv.cvtColor(img, cv.COLOR_BGR2GRAY)\n",
    "            # Find the chess board corners\n",
    "            ret, corners = cv.findChessboardCorners(gray, (dim1,dim2), None)\n",
    "            # If found, add object points, image points (after refining them)\n",
    "            if ret == True:\n",
    "                objpoints.append(objp)\n",
    "                corners2 = cv.cornerSubPix(gray,corners, (11,11), (-1,-1), criteria)\n",
    "                imgpoints.append(corners)\n",
    "                # Draw and display the corners\n",
    "                # cv.drawChessboardCorners(img, (dim1,dim2), corners2, ret)\n",
    "                # imS = cv.resize(img, (960, 540))\n",
    "                # cv.imshow('img', imS)\n",
    "                # cv.waitKey(1000)\n",
    "                c=c+1\n",
    "\n",
    "        # if(len(imgpoints) > 1):\n",
    "        #     ret, mtx, dist, rvecs, tvecs = cv.calibrateCamera(objpoints, imgpoints, gray.shape[::-1], None, None)\n",
    "        # else:\n",
    "        #     ret = 1000\n",
    "        #     mtx = []\n",
    "        #     dist = []\n",
    "        \n",
    "        # result = {'Dim1' : dim1, 'Dim2' : dim2, 'Count' : c, 'RMS' : ret, 'MTX' : mtx, 'Dist' : dist}\n",
    "        # db = db.append(result, ignore_index=True)\n",
    "        # print('Completed ['+str(dim1)+','+str(dim2)+']')\n",
    "        # db.to_pickle(\"./gsresult.pkl\")\n"
   ]
  },
  {
   "cell_type": "code",
   "execution_count": 22,
   "metadata": {},
   "outputs": [
    {
     "name": "stdout",
     "output_type": "stream",
     "text": [
      "5.192802722618745\n"
     ]
    },
    {
     "data": {
      "text/plain": [
       "True"
      ]
     },
     "execution_count": 22,
     "metadata": {},
     "output_type": "execute_result"
    }
   ],
   "source": [
    "ret, mtx, dist, rvecs, tvecs = cv.calibrateCamera(objpoints, imgpoints, gray.shape[::-1], None, None)\n",
    "print(ret)\n",
    "img = cv.imread('.\\catpics\\IMG_1811.jpg')\n",
    "h,  w = img.shape[:2]\n",
    "newcameramtx, roi = cv.getOptimalNewCameraMatrix(mtx, dist, (w,h), 1, (w,h))\n",
    "dst = cv.undistort(img, mtx, dist, None, newcameramtx)\n",
    "# crop the image\n",
    "x, y, w, h = roi\n",
    "dst = dst[y:y+h, x:x+w]\n",
    "cv.imwrite('calibresult.png', dst)"
   ]
  },
  {
   "cell_type": "code",
   "execution_count": 23,
   "metadata": {},
   "outputs": [
    {
     "name": "stdout",
     "output_type": "stream",
     "text": [
      "total error: 1.0302140580458763\n"
     ]
    }
   ],
   "source": [
    "mean_error = 0\n",
    "for i in range(len(objpoints)):\n",
    "    imgpoints2, _ = cv.projectPoints(objpoints[i], rvecs[i], tvecs[i], mtx, dist)\n",
    "    error = cv.norm(imgpoints[i], imgpoints2, cv.NORM_L2)/len(imgpoints2)\n",
    "    mean_error += error\n",
    "print( \"total error: {}\".format(mean_error/len(objpoints)) )"
   ]
  },
  {
   "cell_type": "code",
   "execution_count": 16,
   "metadata": {},
   "outputs": [],
   "source": [
    "def calibrateGrid(path, dim1=6, dim2=6):\n",
    "    imag = cv.imread(path)\n",
    "    #fig = cv.imshow('img', imag)\n",
    "    #cv.waitKey()\n",
    "    gray = cv.cvtColor(imag, cv.COLOR_BGR2GRAY)\n",
    "    # Find the chess board corners\n",
    "    ret, corners = cv.findChessboardCorners(gray, (dim1,dim2), None)\n",
    "    print(ret)\n",
    "    if ret == True:\n",
    "        objpoints.append(objp)\n",
    "        corners2 = cv.cornerSubPix(gray,corners, (11,11), (-1,-1), criteria)\n",
    "        imgpoints.append(corners)\n",
    "        # Draw and display the corners\n",
    "        cv.drawChessboardCorners(imag, (dim1,dim2), corners2, ret)\n",
    "        imS = cv.resize(imag, (960, 540))\n",
    "        cv.imshow('img', imS)\n",
    "        cv.waitKey()\n"
   ]
  },
  {
   "cell_type": "code",
   "execution_count": 24,
   "metadata": {},
   "outputs": [
    {
     "name": "stdout",
     "output_type": "stream",
     "text": [
      "True\n"
     ]
    }
   ],
   "source": [
    "path = '.\\catpics\\\\narrow.jpg'\n",
    "calibrateGrid(path, 6, 4)\n"
   ]
  },
  {
   "cell_type": "code",
   "execution_count": 15,
   "metadata": {},
   "outputs": [
    {
     "data": {
      "text/plain": [
       "[array([[0., 0., 0.],\n",
       "        [1., 0., 0.],\n",
       "        [2., 0., 0.],\n",
       "        [3., 0., 0.],\n",
       "        [4., 0., 0.],\n",
       "        [5., 0., 0.],\n",
       "        [6., 0., 0.],\n",
       "        [7., 0., 0.],\n",
       "        [8., 0., 0.],\n",
       "        [9., 0., 0.],\n",
       "        [0., 1., 0.],\n",
       "        [1., 1., 0.],\n",
       "        [2., 1., 0.],\n",
       "        [3., 1., 0.],\n",
       "        [4., 1., 0.],\n",
       "        [5., 1., 0.],\n",
       "        [6., 1., 0.],\n",
       "        [7., 1., 0.],\n",
       "        [8., 1., 0.],\n",
       "        [9., 1., 0.],\n",
       "        [0., 2., 0.],\n",
       "        [1., 2., 0.],\n",
       "        [2., 2., 0.],\n",
       "        [3., 2., 0.],\n",
       "        [4., 2., 0.],\n",
       "        [5., 2., 0.],\n",
       "        [6., 2., 0.],\n",
       "        [7., 2., 0.],\n",
       "        [8., 2., 0.],\n",
       "        [9., 2., 0.],\n",
       "        [0., 3., 0.],\n",
       "        [1., 3., 0.],\n",
       "        [2., 3., 0.],\n",
       "        [3., 3., 0.],\n",
       "        [4., 3., 0.],\n",
       "        [5., 3., 0.],\n",
       "        [6., 3., 0.],\n",
       "        [7., 3., 0.],\n",
       "        [8., 3., 0.],\n",
       "        [9., 3., 0.],\n",
       "        [0., 4., 0.],\n",
       "        [1., 4., 0.],\n",
       "        [2., 4., 0.],\n",
       "        [3., 4., 0.],\n",
       "        [4., 4., 0.],\n",
       "        [5., 4., 0.],\n",
       "        [6., 4., 0.],\n",
       "        [7., 4., 0.],\n",
       "        [8., 4., 0.],\n",
       "        [9., 4., 0.],\n",
       "        [0., 5., 0.],\n",
       "        [1., 5., 0.],\n",
       "        [2., 5., 0.],\n",
       "        [3., 5., 0.],\n",
       "        [4., 5., 0.],\n",
       "        [5., 5., 0.],\n",
       "        [6., 5., 0.],\n",
       "        [7., 5., 0.],\n",
       "        [8., 5., 0.],\n",
       "        [9., 5., 0.]], dtype=float32),\n",
       " array([[0., 0., 0.],\n",
       "        [1., 0., 0.],\n",
       "        [2., 0., 0.],\n",
       "        [3., 0., 0.],\n",
       "        [4., 0., 0.],\n",
       "        [5., 0., 0.],\n",
       "        [6., 0., 0.],\n",
       "        [7., 0., 0.],\n",
       "        [8., 0., 0.],\n",
       "        [9., 0., 0.],\n",
       "        [0., 1., 0.],\n",
       "        [1., 1., 0.],\n",
       "        [2., 1., 0.],\n",
       "        [3., 1., 0.],\n",
       "        [4., 1., 0.],\n",
       "        [5., 1., 0.],\n",
       "        [6., 1., 0.],\n",
       "        [7., 1., 0.],\n",
       "        [8., 1., 0.],\n",
       "        [9., 1., 0.],\n",
       "        [0., 2., 0.],\n",
       "        [1., 2., 0.],\n",
       "        [2., 2., 0.],\n",
       "        [3., 2., 0.],\n",
       "        [4., 2., 0.],\n",
       "        [5., 2., 0.],\n",
       "        [6., 2., 0.],\n",
       "        [7., 2., 0.],\n",
       "        [8., 2., 0.],\n",
       "        [9., 2., 0.],\n",
       "        [0., 3., 0.],\n",
       "        [1., 3., 0.],\n",
       "        [2., 3., 0.],\n",
       "        [3., 3., 0.],\n",
       "        [4., 3., 0.],\n",
       "        [5., 3., 0.],\n",
       "        [6., 3., 0.],\n",
       "        [7., 3., 0.],\n",
       "        [8., 3., 0.],\n",
       "        [9., 3., 0.],\n",
       "        [0., 4., 0.],\n",
       "        [1., 4., 0.],\n",
       "        [2., 4., 0.],\n",
       "        [3., 4., 0.],\n",
       "        [4., 4., 0.],\n",
       "        [5., 4., 0.],\n",
       "        [6., 4., 0.],\n",
       "        [7., 4., 0.],\n",
       "        [8., 4., 0.],\n",
       "        [9., 4., 0.],\n",
       "        [0., 5., 0.],\n",
       "        [1., 5., 0.],\n",
       "        [2., 5., 0.],\n",
       "        [3., 5., 0.],\n",
       "        [4., 5., 0.],\n",
       "        [5., 5., 0.],\n",
       "        [6., 5., 0.],\n",
       "        [7., 5., 0.],\n",
       "        [8., 5., 0.],\n",
       "        [9., 5., 0.]], dtype=float32)]"
      ]
     },
     "execution_count": 15,
     "metadata": {},
     "output_type": "execute_result"
    }
   ],
   "source": [
    "objpoints"
   ]
  },
  {
   "cell_type": "code",
   "execution_count": 11,
   "metadata": {},
   "outputs": [
    {
     "name": "stdout",
     "output_type": "stream",
     "text": [
      "1\n",
      "False\n"
     ]
    }
   ],
   "source": [
    "for fname in images[:1]:\n",
    "    img = cv.imread(fname)\n",
    "    gray = cv.cvtColor(img, cv.COLOR_BGR2GRAY)\n",
    "    # Find the chess board corners\n",
    "    ret, corners = cv.findChessboardCorners(gray, (15,7), None)\n",
    "    # If found, add object points, image points (after refining them)\n",
    "    print(ret)\n",
    "    if ret == True:\n",
    "        objpoints.append(objp)\n",
    "        corners2 = cv.cornerSubPix(gray,corners, (11,11), (-1,-1), criteria)\n",
    "        imgpoints.append(corners)\n",
    "        # Draw and display the corners\n",
    "        cv.drawChessboardCorners(img, (10,6), corners2, ret)\n",
    "        cv.imshow('img', img)\n",
    "        cv.waitKey(500)\n",
    "cv.destroyAllWindows()"
   ]
  },
  {
   "cell_type": "code",
   "execution_count": 7,
   "metadata": {},
   "outputs": [
    {
     "name": "stdout",
     "output_type": "stream",
     "text": [
      "[]\n"
     ]
    }
   ],
   "source": [
    "print(objpoints)"
   ]
  }
 ],
 "metadata": {
  "interpreter": {
   "hash": "44638824d9dcd976e78149e555bb6adf54ebcfbdf0e35f7a2dd19741f83cb07a"
  },
  "kernelspec": {
   "display_name": "Python 3.10.1 64-bit",
   "language": "python",
   "name": "python3"
  },
  "language_info": {
   "codemirror_mode": {
    "name": "ipython",
    "version": 3
   },
   "file_extension": ".py",
   "mimetype": "text/x-python",
   "name": "python",
   "nbconvert_exporter": "python",
   "pygments_lexer": "ipython3",
   "version": "3.10.1"
  },
  "orig_nbformat": 4
 },
 "nbformat": 4,
 "nbformat_minor": 2
}
